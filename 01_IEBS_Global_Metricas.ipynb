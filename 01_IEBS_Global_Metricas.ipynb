{
  "cells": [
    {
      "cell_type": "markdown",
      "metadata": {
        "id": "view-in-github",
        "colab_type": "text"
      },
      "source": [
        "<a href=\"https://colab.research.google.com/github/gabrielfernandorey/IEBS/blob/main/01_IEBS_Global_Metricas.ipynb\" target=\"_parent\"><img src=\"https://colab.research.google.com/assets/colab-badge.svg\" alt=\"Open In Colab\"/></a>"
      ]
    },
    {
      "cell_type": "markdown",
      "id": "l3ejMC6VQWmp",
      "metadata": {
        "id": "l3ejMC6VQWmp"
      },
      "source": [
        "# IEBS\n",
        "### Proyecto fin de Postgrado\n",
        "--- \n",
        "- Metricas\n",
        "- Alumno: Gabriel Rey"
      ]
    },
    {
      "cell_type": "markdown",
      "id": "lW_F-iJVVZ3g",
      "metadata": {
        "id": "lW_F-iJVVZ3g"
      },
      "source": [
        "## Clonar repositorio"
      ]
    },
    {
      "cell_type": "code",
      "execution_count": 1,
      "id": "RSGwos0nVc2W",
      "metadata": {
        "colab": {
          "base_uri": "https://localhost:8080/"
        },
        "id": "RSGwos0nVc2W",
        "outputId": "34d9b0d8-5f18-454c-f80f-c14aae919be5"
      },
      "outputs": [
        {
          "output_type": "stream",
          "name": "stdout",
          "text": [
            "Cloning into 'IEBS'...\n",
            "remote: Enumerating objects: 12134, done.\u001b[K\n",
            "remote: Counting objects: 100% (118/118), done.\u001b[K\n",
            "remote: Compressing objects: 100% (66/66), done.\u001b[K\n",
            "remote: Total 12134 (delta 57), reused 107 (delta 47), pack-reused 12016\u001b[K\n",
            "Receiving objects: 100% (12134/12134), 164.29 MiB | 29.30 MiB/s, done.\n",
            "Resolving deltas: 100% (58/58), done.\n",
            "Updating files: 100% (12021/12021), done.\n"
          ]
        }
      ],
      "source": [
        "user='gabrielfernandorey'\n",
        "git_repository = \"https://github.com/\"+user+\"/IEBS.git\"\n",
        "\n",
        "!git clone {git_repository}"
      ]
    },
    {
      "cell_type": "markdown",
      "id": "727ea47b-3486-4fc2-9b81-365b0828c486",
      "metadata": {
        "id": "727ea47b-3486-4fc2-9b81-365b0828c486"
      },
      "source": [
        "## Importamos librerias"
      ]
    },
    {
      "cell_type": "code",
      "execution_count": 2,
      "id": "c057fa69-729e-432f-8ac5-ea0e5a0e7b6b",
      "metadata": {
        "id": "c057fa69-729e-432f-8ac5-ea0e5a0e7b6b"
      },
      "outputs": [],
      "source": [
        "import os\n",
        "import struct\n",
        "import warnings\n",
        "\n",
        "import matplotlib.pyplot as plt\n",
        "import matplotlib.image as mpimg\n",
        "import numpy as np\n",
        "import pandas as pd\n",
        "\n",
        "import librosa\n",
        "import librosa.display\n",
        "from IPython import display as ipd\n",
        "from PIL import Image"
      ]
    },
    {
      "cell_type": "code",
      "execution_count": 3,
      "id": "0d6b7a54-7b5c-48ab-8b46-36eb4816306d",
      "metadata": {
        "id": "0d6b7a54-7b5c-48ab-8b46-36eb4816306d"
      },
      "outputs": [],
      "source": [
        "# Setear semilla para reproduccion\n",
        "seed = 42\n",
        "np.random.seed(seed)\n",
        "\n",
        "# Suprimir todos los mensajes de advertencia\n",
        "warnings.filterwarnings(\"ignore\")"
      ]
    },
    {
      "cell_type": "markdown",
      "id": "s9G5zfzYWHQz",
      "metadata": {
        "id": "s9G5zfzYWHQz"
      },
      "source": [
        "## Importar archivos WAV"
      ]
    },
    {
      "cell_type": "code",
      "execution_count": 4,
      "id": "wkh_PXLPN1gf",
      "metadata": {
        "colab": {
          "base_uri": "https://localhost:8080/"
        },
        "id": "wkh_PXLPN1gf",
        "outputId": "70b2cfe3-ed10-47cb-8e35-89bcc5eace6d"
      },
      "outputs": [
        {
          "output_type": "execute_result",
          "data": {
            "text/plain": [
              "['BENTEVEO_COMÚN.wav',\n",
              " 'CABECITANEGRA_COMÚN.wav',\n",
              " 'CALANDRIA_GRANDE.wav',\n",
              " 'CARDENAL_AMARILLO.wav',\n",
              " 'CARDENAL_COMUN.wav',\n",
              " 'COTORRA.wav',\n",
              " 'GOLONDRINA_DOMÉSTICA.wav',\n",
              " 'GORRIÓN.wav',\n",
              " 'HORNERO.wav',\n",
              " 'JILGUERO_DORADO.wav',\n",
              " 'RUIDO.wav',\n",
              " 'ZORZAL_COLORADO.wav']"
            ]
          },
          "metadata": {},
          "execution_count": 4
        }
      ],
      "source": [
        "filenames = !ls -1 '/content/IEBS/Data'\n",
        "filenames"
      ]
    },
    {
      "cell_type": "code",
      "execution_count": 5,
      "id": "a19ad757-b007-4256-baac-5270e135bbf6",
      "metadata": {
        "colab": {
          "base_uri": "https://localhost:8080/"
        },
        "id": "a19ad757-b007-4256-baac-5270e135bbf6",
        "outputId": "53f8d5ea-a10b-430d-e1da-dc0c824fe218"
      },
      "outputs": [
        {
          "output_type": "stream",
          "name": "stdout",
          "text": [
            "Numero total de clases: 12\n"
          ]
        }
      ],
      "source": [
        "num_samples = len(filenames)\n",
        "print('Numero total de clases:', num_samples)"
      ]
    },
    {
      "cell_type": "markdown",
      "id": "a6a7344c-1333-485b-9495-0efaef4201c2",
      "metadata": {
        "id": "a6a7344c-1333-485b-9495-0efaef4201c2"
      },
      "source": [
        "### Preprocesamiento\n"
      ]
    },
    {
      "cell_type": "markdown",
      "id": "MwNtf8_xXw3P",
      "metadata": {
        "id": "MwNtf8_xXw3P"
      },
      "source": [
        "Se define una función para la extracción de N muestras"
      ]
    },
    {
      "cell_type": "code",
      "execution_count": 6,
      "id": "qeLc_qVap-_H",
      "metadata": {
        "id": "qeLc_qVap-_H"
      },
      "outputs": [],
      "source": [
        "class coefs:\n",
        "       \n",
        "    # Global vars\n",
        "    sr = 44100               # librosa sample rate input\n",
        "    sec = 10                  # seconds   \n",
        "    sshape = (128, 128)       # height x width\n",
        "    fmin = 500               # spectrum min frequency\n",
        "    fmax = 12500             # spectrum max frequency"
      ]
    },
    {
      "cell_type": "code",
      "execution_count": 7,
      "id": "8D9-nwh0USCC",
      "metadata": {
        "id": "8D9-nwh0USCC"
      },
      "outputs": [],
      "source": [
        "def extraer_muestras(filename, n_muestras):\n",
        "    \"\"\"\n",
        "    ARGS\n",
        "      filename: archivo de audio a procesar\n",
        "      n_muestras: cantidad de muestras a obtener\n",
        "    \"\"\"\n",
        "    carpeta = filename[:-4]\n",
        "    path_save = '/content/IEBS/Audioimagen/' + carpeta\n",
        "    os.makedirs(path_save, exist_ok=True)\n",
        "        \n",
        "    audio, _ = librosa.load('/content/IEBS/Data/'+filename)\n",
        "\n",
        "    for n in range(n_muestras):\n",
        "        start = np.random.randint(1, len(audio)-(coefs.sec * coefs.sr))\n",
        "        chunk = audio[start:start + coefs.sec * coefs.sr]\n",
        "\n",
        "        # Espectrograma para cada segmento de audio -------------------------\n",
        "        hop_length = int(coefs.sec * coefs.sr / (coefs.sshape[1] - 1))\n",
        "        mel_spec = librosa.feature.melspectrogram(y = chunk, \n",
        "                                                  sr = coefs.sr, \n",
        "                                                  n_fft = 1024, \n",
        "                                                  hop_length = hop_length, \n",
        "                                                  n_mels = coefs.sshape[0], \n",
        "                                                  fmin = coefs.fmin, \n",
        "                                                  fmax = coefs.fmax)\n",
        "        \n",
        "        mel_spec = librosa.power_to_db(mel_spec**2, ref=np.max) \n",
        "\n",
        "        # Normalize\n",
        "        mel_spec -= mel_spec.min()\n",
        "        mel_spec /= mel_spec.max()\n",
        "        \n",
        "        # Grabar imagen ------------------------------------------------------\n",
        "        im = Image.fromarray(mel_spec * 255.0).convert(\"L\")\n",
        "        im.save(path_save+'/'+f'{carpeta}_{n}.png')\n",
        "\n",
        "    print(f\" {carpeta} - {n_muestras} Imágenes generadas\")\n",
        "    \n",
        "    return "
      ]
    },
    {
      "cell_type": "code",
      "execution_count": 8,
      "id": "879dcb54-d610-460b-b3c4-98f9fb46366f",
      "metadata": {
        "colab": {
          "base_uri": "https://localhost:8080/"
        },
        "id": "879dcb54-d610-460b-b3c4-98f9fb46366f",
        "outputId": "05492967-e0d3-46c6-b8ae-54c48ad73be2"
      },
      "outputs": [
        {
          "output_type": "stream",
          "name": "stdout",
          "text": [
            " BENTEVEO_COMÚN - 1000 Imágenes generadas\n",
            " CABECITANEGRA_COMÚN - 1000 Imágenes generadas\n",
            " CALANDRIA_GRANDE - 1000 Imágenes generadas\n",
            " CARDENAL_AMARILLO - 1000 Imágenes generadas\n",
            " CARDENAL_COMUN - 1000 Imágenes generadas\n",
            " COTORRA - 1000 Imágenes generadas\n",
            " GOLONDRINA_DOMÉSTICA - 1000 Imágenes generadas\n",
            " GORRIÓN - 1000 Imágenes generadas\n",
            " HORNERO - 1000 Imágenes generadas\n",
            " JILGUERO_DORADO - 1000 Imágenes generadas\n",
            " RUIDO - 1000 Imágenes generadas\n",
            " ZORZAL_COLORADO - 1000 Imágenes generadas\n"
          ]
        }
      ],
      "source": [
        "for i in range(len(filenames)):\n",
        "  extraer_muestras(filenames[i], 1000)"
      ]
    },
    {
      "cell_type": "markdown",
      "id": "HYBouBZExObY",
      "metadata": {
        "id": "HYBouBZExObY"
      },
      "source": [
        "## Modelo Convolucional"
      ]
    },
    {
      "cell_type": "code",
      "execution_count": 9,
      "id": "0IR2VMMVgfPd",
      "metadata": {
        "id": "0IR2VMMVgfPd"
      },
      "outputs": [],
      "source": [
        "import wave\n",
        "import pylab\n",
        "from sklearn.model_selection import train_test_split\n",
        "\n",
        "import tensorflow as tf\n",
        "from keras.models import Sequential\n",
        "from keras import layers\n",
        "from keras.layers import Input, Dropout\n",
        "from keras.layers.core import Dense, Flatten, Activation"
      ]
    },
    {
      "cell_type": "markdown",
      "id": "6y2wpV-hxjT-",
      "metadata": {
        "id": "6y2wpV-hxjT-"
      },
      "source": [
        "### Preparar datos de entrenamiento"
      ]
    },
    {
      "cell_type": "code",
      "execution_count": 10,
      "id": "queSqLnoxm9n",
      "metadata": {
        "id": "queSqLnoxm9n"
      },
      "outputs": [],
      "source": [
        "batch_size = 16\n",
        "img_height = 128\n",
        "img_width = 128\n",
        "\n",
        "DATASET_PATH='/content/IEBS/Audioimagen/'"
      ]
    },
    {
      "cell_type": "code",
      "execution_count": 11,
      "id": "UK97lDnqxuks",
      "metadata": {
        "colab": {
          "base_uri": "https://localhost:8080/"
        },
        "id": "UK97lDnqxuks",
        "outputId": "7ad656f1-58fe-4477-e91c-f9e7278fa367"
      },
      "outputs": [
        {
          "output_type": "stream",
          "name": "stdout",
          "text": [
            "Found 12000 files belonging to 12 classes.\n",
            "Using 9600 files for training.\n"
          ]
        }
      ],
      "source": [
        "train_ds = tf.keras.utils.image_dataset_from_directory(\n",
        "                directory=DATASET_PATH,\n",
        "                label_mode='categorical',\n",
        "                validation_split=0.2,\n",
        "                subset=\"training\",\n",
        "                seed=123,\n",
        "                image_size=(img_height, img_width),\n",
        "                batch_size=batch_size)"
      ]
    },
    {
      "cell_type": "code",
      "execution_count": 12,
      "id": "hCScSLatyEEv",
      "metadata": {
        "colab": {
          "base_uri": "https://localhost:8080/"
        },
        "id": "hCScSLatyEEv",
        "outputId": "bab80096-e18e-4bc3-cea2-e18043d30fa8"
      },
      "outputs": [
        {
          "output_type": "stream",
          "name": "stdout",
          "text": [
            "Found 12000 files belonging to 12 classes.\n",
            "Using 2400 files for validation.\n"
          ]
        }
      ],
      "source": [
        "val_ds = tf.keras.utils.image_dataset_from_directory(\n",
        "                directory=DATASET_PATH,\n",
        "                label_mode='categorical',\n",
        "                validation_split=0.2,\n",
        "                subset=\"validation\",\n",
        "                seed=123,\n",
        "                image_size=(img_height, img_width),\n",
        "                batch_size=batch_size)"
      ]
    },
    {
      "cell_type": "markdown",
      "id": "FMFr5xexyKd4",
      "metadata": {
        "id": "FMFr5xexyKd4"
      },
      "source": [
        "### Obtener nombre de las clases"
      ]
    },
    {
      "cell_type": "code",
      "execution_count": 13,
      "id": "ju7bGK3syHQe",
      "metadata": {
        "colab": {
          "base_uri": "https://localhost:8080/"
        },
        "id": "ju7bGK3syHQe",
        "outputId": "6968ea12-f859-4561-f5f5-5fd3897aa085"
      },
      "outputs": [
        {
          "output_type": "stream",
          "name": "stdout",
          "text": [
            "['BENTEVEO_COMÚN', 'CABECITANEGRA_COMÚN', 'CALANDRIA_GRANDE', 'CARDENAL_AMARILLO', 'CARDENAL_COMUN', 'COTORRA', 'GOLONDRINA_DOMÉSTICA', 'GORRIÓN', 'HORNERO', 'JILGUERO_DORADO', 'RUIDO', 'ZORZAL_COLORADO']\n"
          ]
        }
      ],
      "source": [
        "class_names = train_ds.class_names\n",
        "print(class_names)"
      ]
    },
    {
      "cell_type": "markdown",
      "id": "8emwQsokz9mo",
      "metadata": {
        "id": "8emwQsokz9mo"
      },
      "source": [
        "### Modelo CNN + FC\n",
        "Se modela la red con 4 capas convolucionales y 2 capas densas"
      ]
    },
    {
      "cell_type": "code",
      "execution_count": 14,
      "id": "RU2jZtJrz9LS",
      "metadata": {
        "id": "RU2jZtJrz9LS"
      },
      "outputs": [],
      "source": [
        "num_classes = len(class_names)\n",
        "\n",
        "model = Sequential([\n",
        "  layers.Rescaling(1./255, input_shape=(img_height, img_width, 3)),\n",
        "  layers.Conv2D(16, 3, padding='same', activation='relu'),\n",
        "  layers.BatchNormalization(),\n",
        "  layers.MaxPooling2D(),\n",
        "\n",
        "  layers.Conv2D(32, 3, padding='same', activation='relu'),\n",
        "  layers.MaxPooling2D(),\n",
        "\n",
        "  layers.Conv2D(64, 3, padding='same', activation='relu'),\n",
        "  layers.MaxPooling2D(),\n",
        "\n",
        "  layers.Conv2D(128, 3, padding='same', activation='relu'),\n",
        "  layers.MaxPooling2D(),\n",
        "\n",
        "  layers.Flatten(),\n",
        "  layers.Dense(256, activation='relu'),\n",
        "  layers.Dropout(0.5), \n",
        "\n",
        "  layers.Dense(256, activation='relu'),\n",
        "  layers.Dropout(0.5), \n",
        "\n",
        "  layers.Dense(num_classes, activation='softmax')\n",
        "])"
      ]
    },
    {
      "cell_type": "code",
      "execution_count": 15,
      "id": "BD7ApeZ5z0GN",
      "metadata": {
        "id": "BD7ApeZ5z0GN"
      },
      "outputs": [],
      "source": [
        "model.compile(loss = tf.keras.losses.CategoricalCrossentropy(from_logits=False, label_smoothing=0.01),\n",
        "              optimizer = tf.keras.optimizers.Adam(learning_rate=0.001),\n",
        "              metrics = ['accuracy'])"
      ]
    },
    {
      "cell_type": "markdown",
      "id": "-rCwWOXV0mIs",
      "metadata": {
        "id": "-rCwWOXV0mIs"
      },
      "source": [
        "### Entrenamiento"
      ]
    },
    {
      "cell_type": "code",
      "execution_count": 16,
      "id": "Dk4dRfUo0wWF",
      "metadata": {
        "colab": {
          "base_uri": "https://localhost:8080/"
        },
        "id": "Dk4dRfUo0wWF",
        "outputId": "11faf952-2ebd-4346-989f-b80744d769ee"
      },
      "outputs": [
        {
          "output_type": "stream",
          "name": "stdout",
          "text": [
            "Epoch 1/5\n",
            "600/600 [==============================] - 275s 452ms/step - loss: 0.5163 - accuracy: 0.8604 - val_loss: 0.1172 - val_accuracy: 1.0000\n",
            "Epoch 2/5\n",
            "600/600 [==============================] - 259s 432ms/step - loss: 0.1274 - accuracy: 0.9971 - val_loss: 0.0853 - val_accuracy: 1.0000\n",
            "Epoch 3/5\n",
            "600/600 [==============================] - 254s 424ms/step - loss: 0.1150 - accuracy: 0.9996 - val_loss: 0.0874 - val_accuracy: 1.0000\n",
            "Epoch 4/5\n",
            "600/600 [==============================] - 265s 441ms/step - loss: 0.1136 - accuracy: 0.9987 - val_loss: 0.0841 - val_accuracy: 1.0000\n",
            "Epoch 5/5\n",
            "600/600 [==============================] - 263s 438ms/step - loss: 0.1067 - accuracy: 0.9991 - val_loss: 0.0800 - val_accuracy: 1.0000\n"
          ]
        }
      ],
      "source": [
        "epochs=5\n",
        "history = model.fit(train_ds, validation_data=val_ds, epochs=epochs)"
      ]
    },
    {
      "cell_type": "code",
      "source": [
        "# Guardamos el modelo \n",
        "model.save('/content/IEBS/Modelos/modelo.h5')"
      ],
      "metadata": {
        "id": "NKDqcH9Sj8MN"
      },
      "id": "NKDqcH9Sj8MN",
      "execution_count": null,
      "outputs": []
    },
    {
      "cell_type": "markdown",
      "id": "6KoevSYx1PfH",
      "metadata": {
        "id": "6KoevSYx1PfH"
      },
      "source": [
        "### Visualización de rendimiento"
      ]
    },
    {
      "cell_type": "code",
      "execution_count": 17,
      "id": "lIXS3Gcu1Teu",
      "metadata": {
        "colab": {
          "base_uri": "https://localhost:8080/",
          "height": 404
        },
        "id": "lIXS3Gcu1Teu",
        "outputId": "2d04e358-3837-498a-86b5-7d2b06403c51"
      },
      "outputs": [
        {
          "output_type": "display_data",
          "data": {
            "text/plain": [
              "<Figure size 576x432 with 1 Axes>"
            ],
            "image/png": "[encoded data removed]"
          },
          "metadata": {
            "needs_background": "light"
          }
        }
      ],
      "source": [
        "history_dict = history.history\n",
        "loss_values = history_dict['loss']\n",
        "val_loss_values = history_dict['val_loss']\n",
        "epochs = range(1, len(loss_values)+1)\n",
        "\n",
        "plt.figure(figsize=(8,6))\n",
        "plt.plot(epochs, loss_values, 'r', label='Training loss')\n",
        "plt.plot(epochs, val_loss_values, 'b', label='Validation loss')\n",
        "plt.title('Training and validation loss')\n",
        "plt.xlabel('Epochs')\n",
        "plt.ylabel('Loss')\n",
        "plt.legend()\n",
        "plt.show()"
      ]
    },
    {
      "cell_type": "code",
      "execution_count": 18,
      "id": "Zhtf_F4d1nOg",
      "metadata": {
        "colab": {
          "base_uri": "https://localhost:8080/",
          "height": 404
        },
        "id": "Zhtf_F4d1nOg",
        "outputId": "ea97a150-8366-4cb1-a4f8-a718c2078697"
      },
      "outputs": [
        {
          "output_type": "display_data",
          "data": {
            "text/plain": [
              "<Figure size 576x432 with 1 Axes>"
            ],
            "image/png": "[encoded data removed]"
          },
          "metadata": {
            "needs_background": "light"
          }
        }
      ],
      "source": [
        "acc_values = history_dict['accuracy']\n",
        "val_acc_values = history_dict['val_accuracy']\n",
        "epochs = range(1, len(acc_values)+1)\n",
        "\n",
        "plt.figure(figsize=(8,6))\n",
        "plt.plot(epochs, acc_values, 'r', label='Training accuracy')\n",
        "plt.plot(epochs, val_acc_values, 'b', label='Validation accuracy')\n",
        "plt.title('Training and validation accuracy')\n",
        "plt.xlabel('Epochs')\n",
        "plt.ylabel('Accuracy')\n",
        "plt.legend()\n",
        "plt.show()"
      ]
    },
    {
      "cell_type": "code",
      "execution_count": 19,
      "id": "bKxmDn_c1wXe",
      "metadata": {
        "colab": {
          "base_uri": "https://localhost:8080/"
        },
        "id": "bKxmDn_c1wXe",
        "outputId": "25a341ad-83f1-46e2-c08a-5854199e04f3"
      },
      "outputs": [
        {
          "output_type": "stream",
          "name": "stdout",
          "text": [
            "Final loss: 0.080023, final accuracy: 1.000000\n"
          ]
        }
      ],
      "source": [
        "# Resumen de los valores de loss y accuracy\n",
        "final_loss, final_acc = model.evaluate(val_ds, verbose=0)\n",
        "print(\"Final loss: {0:.6f}, final accuracy: {1:.6f}\".format(final_loss, final_acc))"
      ]
    },
    {
      "cell_type": "markdown",
      "source": [
        "### Probamos con una imagen conocida aleatoria"
      ],
      "metadata": {
        "id": "-S80hHO1K8Kk"
      },
      "id": "-S80hHO1K8Kk"
    },
    {
      "cell_type": "code",
      "source": [
        "from keras.models import load_model"
      ],
      "metadata": {
        "id": "jxxgfRydKmHv"
      },
      "id": "jxxgfRydKmHv",
      "execution_count": 20,
      "outputs": []
    },
    {
      "cell_type": "code",
      "source": [
        "model = load_model('/content/IEBS/Modelos/modelo.h5')"
      ],
      "metadata": {
        "id": "RORdrqT5Kowl"
      },
      "id": "RORdrqT5Kowl",
      "execution_count": null,
      "outputs": []
    },
    {
      "cell_type": "code",
      "source": [
        "# Ruta del directorio padre\n",
        "directorio_padre = '/content/IEBS/Audioimagen/'\n",
        "\n",
        "# Lista de los subdirectorios\n",
        "subdirectorios = os.listdir(directorio_padre)\n",
        "\n",
        "# Elige un subdirectorio al azar\n",
        "subdirectorio_aleatorio = np.random.choice(subdirectorios)\n",
        "\n",
        "nro = np.random.randint(0, 1000)\n",
        "imagen = '/content/IEBS/Audioimagen/' + subdirectorio_aleatorio + '/' + subdirectorio_aleatorio + '_' + str(nro) + '.png'\n",
        "imagen_rgb = mpimg.imread(imagen) # para visualizar la imagen\n",
        "plt.axis('off')\n",
        "plt.title(subdirectorio_aleatorio + '_' + str(nro) + '.png')\n",
        "plt.imshow(imagen_rgb, cmap='gray');"
      ],
      "metadata": {
        "id": "L-Ppie2QKvLg",
        "outputId": "29474d92-62e1-4bcd-ef6c-b94827f0c552",
        "colab": {
          "base_uri": "https://localhost:8080/",
          "height": 264
        }
      },
      "id": "L-Ppie2QKvLg",
      "execution_count": null,
      "outputs": [
        {
          "output_type": "display_data",
          "data": {
            "text/plain": [
              "<Figure size 432x288 with 1 Axes>"
            ],
            "image/png": "[encoded data removed]"
          },
          "metadata": {
            "needs_background": "light"
          }
        }
      ]
    },
    {
      "cell_type": "code",
      "source": [
        "# Clasificacion\n",
        "imagenMod = tf.keras.preprocessing.image.load_img(imagen, target_size=(128,128))\n",
        "imagenMod = tf.keras.preprocessing.image.img_to_array(imagenMod)\n",
        "imagenMod = np.expand_dims(imagenMod, axis=0) #(alto, ancho, 3) -> (1, alto, ancho, 3) \n",
        "\n",
        "np.set_printoptions(precision=4, suppress=True)\n",
        "pred = model.predict(imagenMod).astype(\"float32\")\n",
        "print(pred)\n",
        "print()\n",
        "print(class_names[np.argmax(pred)])"
      ],
      "metadata": {
        "id": "SnAgsDfgLZcK",
        "outputId": "1590d971-feec-4160-f623-07203d9dbe86",
        "colab": {
          "base_uri": "https://localhost:8080/"
        }
      },
      "id": "SnAgsDfgLZcK",
      "execution_count": null,
      "outputs": [
        {
          "output_type": "stream",
          "name": "stdout",
          "text": [
            "1/1 [==============================] - 0s 361ms/step\n",
            "[[0.     0.     0.     0.     0.     0.     0.     0.     0.9999 0.\n",
            "  0.     0.    ]]\n",
            "\n",
            "HORNERO\n"
          ]
        }
      ]
    },
    {
      "cell_type": "markdown",
      "source": [
        "### Aplicacion"
      ],
      "metadata": {
        "id": "QHHGR7glUaF0"
      },
      "id": "QHHGR7glUaF0"
    },
    {
      "cell_type": "code",
      "source": [
        "!pip install pytube"
      ],
      "metadata": {
        "id": "eeRaGwW5GrJg",
        "outputId": "78c5da22-93ee-4513-a59b-7ca979c5a399",
        "colab": {
          "base_uri": "https://localhost:8080/"
        }
      },
      "id": "eeRaGwW5GrJg",
      "execution_count": 21,
      "outputs": [
        {
          "output_type": "stream",
          "name": "stdout",
          "text": [
            "Looking in indexes: https://pypi.org/simple, https://us-python.pkg.dev/colab-wheels/public/simple/\n",
            "Collecting pytube\n",
            "  Downloading pytube-12.1.2-py3-none-any.whl (57 kB)\n",
            "\u001b[2K     \u001b[90m━━━━━━━━━━━━━━━━━━━━━━━━━━━━━━━━━━━━━━━━\u001b[0m \u001b[32m57.0/57.0 KB\u001b[0m \u001b[31m2.2 MB/s\u001b[0m eta \u001b[36m0:00:00\u001b[0m\n",
            "\u001b[?25hInstalling collected packages: pytube\n",
            "Successfully installed pytube-12.1.2\n"
          ]
        }
      ]
    },
    {
      "cell_type": "code",
      "source": [
        "from pytube import YouTube"
      ],
      "metadata": {
        "id": "AybxmqmeYR4K"
      },
      "id": "AybxmqmeYR4K",
      "execution_count": 22,
      "outputs": []
    },
    {
      "cell_type": "code",
      "source": [
        "def ordenados(acum_pred, acum_indx):\n",
        "  unicos = np.unique(acum_indx)\n",
        "  rank = []\n",
        "  acum=0\n",
        "  cont=0\n",
        "  for c in unicos:\n",
        "    for i in range(len(acum_indx)):\n",
        "      if c == acum_indx[i]:\n",
        "        acum += acum_pred[i]  \n",
        "        cont +=1\n",
        "    rank.append([c, acum/cont])\n",
        "    acum=0\n",
        "    cont=0\n",
        "\n",
        "  return sorted(rank, key=lambda x: x[1], reverse=True)"
      ],
      "metadata": {
        "id": "TXwHM0QDWgvn"
      },
      "id": "TXwHM0QDWgvn",
      "execution_count": 122,
      "outputs": []
    },
    {
      "cell_type": "code",
      "source": [
        "def predicciones(url, muestras=10, umbral=0.9):\n",
        "\n",
        "  # Descargar el audio del video de YouTube\n",
        "  youtube_url = url\n",
        "  yt = YouTube(youtube_url)\n",
        "  yt.streams.filter(only_audio=True)\n",
        "  yt.streams.first().download('/content/IEBS/Data/', filename='AUDIO_TEST.wav')\n",
        "\n",
        "  extraer_muestras('AUDIO_TEST.wav', muestras )\n",
        "\n",
        "  acum_pred = [] \n",
        "  acum_indx = [] \n",
        "\n",
        "  for i in range(muestras):\n",
        "    imagen = '/content/IEBS/Audioimagen/AUDIO_TEST/AUDIO_TEST_'+str(i)+'.png'\n",
        "    imagen_rgb = mpimg.imread(imagen) # para visualizar la imagen\n",
        "\n",
        "    # Clasificacion\n",
        "    imagenMod = tf.keras.preprocessing.image.load_img(imagen, target_size=(128,128))\n",
        "    imagenMod = tf.keras.preprocessing.image.img_to_array(imagenMod)\n",
        "    imagenMod = np.expand_dims(imagenMod, axis=0) #(alto, ancho, 3) -> (1, alto, ancho, 3) \n",
        "\n",
        "    np.set_printoptions(precision=4, suppress=True)\n",
        "    \n",
        "    # Prediccion\n",
        "    pred = model.predict(imagenMod).astype(\"float32\")\n",
        "\n",
        "    # Acumular indices\n",
        "    acum_indx.append(np.argmax(pred))\n",
        "\n",
        "    # Acumular predicciones\n",
        "    acum_pred.append(pred[0][np.argmax(pred)])\n",
        "            \n",
        "    # Procesar predicciones y presentar\n",
        "    candidatos, votos = np.unique(acum_indx, return_counts=True)\n",
        "\n",
        "    # Ordenamos candidatos en funcion de los votos\n",
        "    lista_combinada = list(zip(candidatos, votos))\n",
        "    lista_ordenada = sorted(lista_combinada, key=lambda x: x[1], reverse=True)\n",
        "    candidatos, votos = zip(*lista_ordenada)\n",
        "\n",
        "  print(\"###################################\")\n",
        "  if len(acum_indx) > len(candidatos) or len(candidatos)==1:\n",
        "\n",
        "      prob = c = 0\n",
        "      for i in range(len(acum_indx)):\n",
        "          if acum_indx[i] == candidatos[np.argmax(votos)]:\n",
        "              prob += acum_pred[i]\n",
        "              c = c+1\n",
        "      prob /= c\n",
        "      if prob >= umbral:\n",
        "          print(f\"Umbral: {umbral}\")\n",
        "          print(class_names[candidatos[np.argmax(votos)]], end=\"\")\n",
        "          print(f\"  Probabilidad: {round(prob,4)}\")\n",
        "      else:\n",
        "          print(f\"No se puede predecir con umbral >= {umbral}\")\n",
        "          # Calculo por votacion\n",
        "          print(acum_indx)\n",
        "          \n",
        "          orden_votacion = ordenados(acum_pred, acum_indx)\n",
        "          if votos[0] == votos[1]: # Hay empate(s), define prob.\n",
        "            print(f\"Votacion por mayoria (mas similar a): {class_names[orden_votacion[0][0]]}\")\n",
        "          else:\n",
        "            print(f\"Votacion ponderada por probabilidad (mas similar a): {class_names[candidatos[np.argmax(votos)]]}\")\n",
        "          print(\"-----------------------------------\")\n",
        "          \n",
        "  else:\n",
        "      print(\"No se puede predecir\")\n",
        "  \n",
        "  print(\"###################################\")\n",
        "  print()\n",
        "\n",
        "  return #acum_pred, acum_indx, candidatos, votos"
      ],
      "metadata": {
        "id": "uaPpkED6Pj_P"
      },
      "id": "uaPpkED6Pj_P",
      "execution_count": 156,
      "outputs": []
    },
    {
      "cell_type": "code",
      "source": [
        "url = 'https://www.youtube.com/watch?v=D_OvrN0ekao&t=228s' # Zorzal colorado\n",
        "#url = 'https://www.youtube.com/watch?v=bRPgMuPJeY4&t=331s'  # Benteveo\n",
        "url = 'https://www.youtube.com/watch?v=R2rW363ydE8&t=29s' # Cabecita negra\n",
        "#url = 'https://www.youtube.com/watch?v=GRNA_GFeZIs' # Calandria Grande\n",
        "url = 'https://www.youtube.com/watch?v=f0S6ANb7W1Q&t=1325s' # Cardenal amarillo\n",
        "#url = 'https://www.youtube.com/watch?v=cO0bsV8vePg' # Cardenal comun\n",
        "#url = 'https://www.youtube.com/watch?v=oibxurOe1zE' # Cotorra\n",
        "#url = 'https://www.youtube.com/watch?v=zsvapbpmwNY&t=110s' #Golondrina domestica x\n",
        "url = 'https://www.youtube.com/watch?v=TPuG-FOa1yw&t=971s' # Gorrion x\n",
        "url = 'https://www.youtube.com/watch?v=6hZtOsnc7SE' # Hornero x\n",
        "#url = 'https://www.youtube.com/watch?v=kviBd6K-eF4&t=438s' # Jilguero dorado\n",
        "\n",
        "predicciones(url, muestras=15, umbral=0.8 )"
      ],
      "metadata": {
        "id": "rctjRo8-Qbk4",
        "outputId": "7abb3a1c-e9a7-430b-885a-96cb1754ae35",
        "colab": {
          "base_uri": "https://localhost:8080/"
        }
      },
      "id": "rctjRo8-Qbk4",
      "execution_count": 160,
      "outputs": [
        {
          "output_type": "stream",
          "name": "stdout",
          "text": [
            " AUDIO_TEST - 15 Imágenes generadas\n",
            "1/1 [==============================] - 0s 38ms/step\n",
            "1/1 [==============================] - 0s 40ms/step\n",
            "1/1 [==============================] - 0s 38ms/step\n",
            "1/1 [==============================] - 0s 44ms/step\n",
            "1/1 [==============================] - 0s 41ms/step\n",
            "1/1 [==============================] - 0s 43ms/step\n",
            "1/1 [==============================] - 0s 38ms/step\n",
            "1/1 [==============================] - 0s 45ms/step\n",
            "1/1 [==============================] - 0s 42ms/step\n",
            "1/1 [==============================] - 0s 40ms/step\n",
            "1/1 [==============================] - 0s 48ms/step\n",
            "1/1 [==============================] - 0s 44ms/step\n",
            "1/1 [==============================] - 0s 38ms/step\n",
            "1/1 [==============================] - 0s 38ms/step\n",
            "1/1 [==============================] - 0s 40ms/step\n",
            "###################################\n",
            "No se puede predecir con umbral >= 0.8\n",
            "[6, 1, 6, 6, 6, 8, 6, 6, 6, 6, 6, 6, 6, 6, 6]\n",
            "Votacion ponderada por probabilidad (mas similar a): GOLONDRINA_DOMÉSTICA\n",
            "-----------------------------------\n",
            "###################################\n",
            "\n"
          ]
        }
      ]
    },
    {
      "cell_type": "code",
      "source": [],
      "metadata": {
        "id": "jQ0LB6pltZj8"
      },
      "id": "jQ0LB6pltZj8",
      "execution_count": null,
      "outputs": []
    }
  ],
  "metadata": {
    "colab": {
      "name": "01-Pajaros.ipynb",
      "provenance": [],
      "include_colab_link": true
    },
    "gpuClass": "standard",
    "kernelspec": {
      "display_name": "Python 3 (ipykernel)",
      "language": "python",
      "name": "python3"
    },
    "language_info": {
      "codemirror_mode": {
        "name": "ipython",
        "version": 3
      },
      "file_extension": ".py",
      "mimetype": "text/x-python",
      "name": "python",
      "nbconvert_exporter": "python",
      "pygments_lexer": "ipython3",
      "version": "3.8.13"
    }
  },
  "nbformat": 4,
  "nbformat_minor": 5
}